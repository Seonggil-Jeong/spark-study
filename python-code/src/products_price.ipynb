{
 "cells": [
  {
   "cell_type": "code",
   "execution_count": 1,
   "metadata": {
    "collapsed": true,
    "ExecuteTime": {
     "end_time": "2023-08-17T22:06:06.816869Z",
     "start_time": "2023-08-17T22:06:06.683883Z"
    }
   },
   "outputs": [],
   "source": [
    "import findspark\n",
    "\n",
    "findspark.init()\n",
    "\n",
    "import pyspark\n",
    "\n",
    "from pyspark.sql import SparkSession\n",
    "from pyspark.sql.functions import col, transform"
   ]
  },
  {
   "cell_type": "code",
   "execution_count": 2,
   "outputs": [
    {
     "name": "stdout",
     "output_type": "stream",
     "text": [
      "23/08/18 07:06:10 WARN Utils: Your hostname, SeongGils-MacBook-Pro-2.local resolves to a loopback address: 127.0.0.1; using 192.168.219.137 instead (on interface en0)\n",
      "23/08/18 07:06:10 WARN Utils: Set SPARK_LOCAL_IP if you need to bind to another address\n"
     ]
    },
    {
     "name": "stderr",
     "output_type": "stream",
     "text": [
      "Setting default log level to \"WARN\".\n",
      "To adjust logging level use sc.setLogLevel(newLevel). For SparkR, use setLogLevel(newLevel).\n"
     ]
    },
    {
     "name": "stdout",
     "output_type": "stream",
     "text": [
      "23/08/18 07:06:11 WARN NativeCodeLoader: Unable to load native-hadoop library for your platform... using builtin-java classes where applicable\n",
      "23/08/18 07:06:14 WARN Client: Neither spark.yarn.jars nor spark.yarn.archive is set, falling back to uploading libraries under SPARK_HOME.\n"
     ]
    }
   ],
   "source": [
    "spark = SparkSession.builder.appName(\"ProductsPrice\") \\\n",
    "    .master(\"yarn\") \\\n",
    "    .config(\"spark.driver.host\", \"127.0.0.1\") \\\n",
    "    .config(\"spark.driver.bindAddress\", \"127.0.0.1\").getOrCreate()"
   ],
   "metadata": {
    "collapsed": false,
    "ExecuteTime": {
     "end_time": "2023-08-17T22:06:36.675410Z",
     "start_time": "2023-08-17T22:06:08.205653Z"
    }
   }
  },
  {
   "cell_type": "code",
   "execution_count": 3,
   "outputs": [],
   "source": [
    "tranFile = spark.read.text(\"hdfs://localhost:9000/data/products/ch04_data_transactions.txt\")\n",
    "tranData = tranFile.rdd.map(lambda line: line[0].split(\"#\"))"
   ],
   "metadata": {
    "collapsed": false,
    "ExecuteTime": {
     "end_time": "2023-08-17T22:06:41.026876Z",
     "start_time": "2023-08-17T22:06:36.677161Z"
    }
   }
  },
  {
   "cell_type": "code",
   "execution_count": 4,
   "outputs": [
    {
     "name": "stderr",
     "output_type": "stream",
     "text": [
      "                                                                                \r"
     ]
    },
    {
     "data": {
      "text/plain": "1000"
     },
     "execution_count": 4,
     "metadata": {},
     "output_type": "execute_result"
    }
   ],
   "source": [
    "tranData.count()"
   ],
   "metadata": {
    "collapsed": false,
    "ExecuteTime": {
     "end_time": "2023-08-17T22:06:51.489602Z",
     "start_time": "2023-08-17T22:06:47.293393Z"
    }
   }
  },
  {
   "cell_type": "code",
   "execution_count": 5,
   "outputs": [],
   "source": [
    "from collections import namedtuple\n",
    "### RDD -> DATE FRAME\n",
    "from datetime import date, time\n",
    "\n",
    "transaction = namedtuple(\"transaction\", [\"tran_date\", \"tran_time\", \"user_id\", \"product_id\", \"count\", \"price\"])\n",
    "\n",
    "\n",
    "def parse_line_transaction(line):\n",
    "    return transaction(\n",
    "        line[0].replace(\"\\\"\", \"\"),\n",
    "        line[1].replace(\"\\\"\", \"\"),\n",
    "        line[2].replace(\"\\\"\", \"\"),\n",
    "        line[3].replace(\"\\\"\", \"\"),\n",
    "        line[4].replace(\"\\\"\", \"\"),\n",
    "        line[5].replace(\"\\\"\", \"\")\n",
    "    )"
   ],
   "metadata": {
    "collapsed": false,
    "ExecuteTime": {
     "end_time": "2023-08-17T22:06:54.504374Z",
     "start_time": "2023-08-17T22:06:54.498582Z"
    }
   }
  },
  {
   "cell_type": "code",
   "execution_count": 6,
   "outputs": [
    {
     "name": "stderr",
     "output_type": "stream",
     "text": [
      "                                                                                \r"
     ]
    },
    {
     "data": {
      "text/plain": "[transaction(tran_date='2015-03-30', tran_time='6:55 AM', user_id='51', product_id='68', count='1', price='9506.21'),\n transaction(tran_date='2015-03-30', tran_time='7:39 PM', user_id='99', product_id='86', count='5', price='4107.59'),\n transaction(tran_date='2015-03-30', tran_time='11:57 AM', user_id='79', product_id='58', count='7', price='2987.22'),\n transaction(tran_date='2015-03-30', tran_time='12:46 AM', user_id='51', product_id='50', count='6', price='7501.89'),\n transaction(tran_date='2015-03-30', tran_time='11:39 AM', user_id='86', product_id='24', count='5', price='8370.2'),\n transaction(tran_date='2015-03-30', tran_time='10:35 AM', user_id='63', product_id='19', count='5', price='1023.57'),\n transaction(tran_date='2015-03-30', tran_time='2:30 AM', user_id='23', product_id='77', count='7', price='5892.41'),\n transaction(tran_date='2015-03-30', tran_time='7:41 PM', user_id='49', product_id='58', count='4', price='9298.18'),\n transaction(tran_date='2015-03-30', tran_time='9:18 AM', user_id='97', product_id='86', count='8', price='9462.89'),\n transaction(tran_date='2015-03-30', tran_time='10:06 PM', user_id='94', product_id='26', count='4', price='4199.15')]"
     },
     "execution_count": 6,
     "metadata": {},
     "output_type": "execute_result"
    }
   ],
   "source": [
    "tranData_with_header = tranData.map(lambda line: parse_line_transaction(line))\n",
    "tranData_with_header.collect()[:10]"
   ],
   "metadata": {
    "collapsed": false,
    "ExecuteTime": {
     "end_time": "2023-08-17T22:06:59.674483Z",
     "start_time": "2023-08-17T22:06:55.901001Z"
    }
   }
  },
  {
   "cell_type": "code",
   "execution_count": 7,
   "outputs": [
    {
     "name": "stdout",
     "output_type": "stream",
     "text": [
      "+----------+---------+-------+----------+-----+-------+\n",
      "| tran_date|tran_time|user_id|product_id|count|  price|\n",
      "+----------+---------+-------+----------+-----+-------+\n",
      "|2015-03-30|  6:55 AM|     51|        68|    1|9506.21|\n",
      "|2015-03-30|  7:39 PM|     99|        86|    5|4107.59|\n",
      "|2015-03-30| 11:57 AM|     79|        58|    7|2987.22|\n",
      "|2015-03-30| 12:46 AM|     51|        50|    6|7501.89|\n",
      "|2015-03-30| 11:39 AM|     86|        24|    5| 8370.2|\n",
      "+----------+---------+-------+----------+-----+-------+\n"
     ]
    }
   ],
   "source": [
    "transaction_df = spark.createDataFrame(tranData_with_header)\n",
    "transaction_df.createOrReplaceTempView(\"transaction\")\n",
    "\n",
    "spark.sql(\"SELECT * FROM transaction limit 5\").show()\n"
   ],
   "metadata": {
    "collapsed": false,
    "ExecuteTime": {
     "end_time": "2023-08-17T22:07:01.590778Z",
     "start_time": "2023-08-17T22:06:59.674332Z"
    }
   }
  },
  {
   "cell_type": "code",
   "execution_count": 10,
   "outputs": [],
   "source": [
    "products = spark.read.text(\"hdfs://localhost:9000/data/products/ch04_data_products.txt\").rdd \\\n",
    "    .map(lambda line : line[0].split(\"#\")).map(lambda line : change_str_to_int(line))\n",
    "\n",
    "\n",
    "def change_str_to_int(line):\n",
    "    line[0] = int(line[0])\n",
    "\n",
    "    return line\n"
   ],
   "metadata": {
    "collapsed": false,
    "ExecuteTime": {
     "end_time": "2023-08-15T04:08:30.532145Z",
     "start_time": "2023-08-15T04:08:30.367324Z"
    }
   }
  },
  {
   "cell_type": "code",
   "execution_count": 17,
   "outputs": [
    {
     "data": {
      "text/plain": "Product(product_id=1, product_name='ROBITUSSIN PEAK COLD NIGHTTIME COLD PLUS FLU', price=9721.89, count=10)"
     },
     "execution_count": 17,
     "metadata": {},
     "output_type": "execute_result"
    }
   ],
   "source": [
    "Product = namedtuple(\"Product\", [\"product_id\", \"product_name\", \"price\", \"count\"])\n",
    "\n",
    "def parse_line_product(line):\n",
    "    return Product(\n",
    "        int(line[0]),\n",
    "        str(line[1]),\n",
    "        float(line[2]),\n",
    "        int(line[3]),\n",
    "    )\n",
    "\n",
    "products_with_header = products.map(lambda line : parse_line_product(line))\n",
    "products_with_header.collect()[0]"
   ],
   "metadata": {
    "collapsed": false,
    "ExecuteTime": {
     "end_time": "2023-08-09T15:04:19.098615Z",
     "start_time": "2023-08-09T15:04:18.874529Z"
    }
   }
  },
  {
   "cell_type": "code",
   "execution_count": 19,
   "outputs": [
    {
     "name": "stdout",
     "output_type": "stream",
     "text": [
      "+----------+--------------------+-------+-----+\n",
      "|product_id|        product_name|  price|count|\n",
      "+----------+--------------------+-------+-----+\n",
      "|         1|ROBITUSSIN PEAK C...|9721.89|   10|\n",
      "|         2|Mattel Little Mom...|6060.78|    6|\n",
      "|         3|Cute baby doll, b...|1808.79|    2|\n",
      "|         4|           Bear doll|  51.06|    6|\n",
      "|         5|LEGO Legends of C...| 849.36|    6|\n",
      "|         6|         LEGO Castle|4777.51|   10|\n",
      "|         7|         LEGO Mixels|8720.91|    1|\n",
      "|         8|      LEGO Star Wars|7592.44|    4|\n",
      "|         9|LEGO Lord of the ...| 851.67|    2|\n",
      "|        10|     LEGO The Hobbit|7314.55|    9|\n",
      "|        11|      LEGO Minecraft|5646.81|    3|\n",
      "|        12|   LEGO Hero Factory| 6911.2|    1|\n",
      "|        13|   LEGO Architecture| 604.58|    5|\n",
      "|        14|        LEGO Technic|7423.48|    3|\n",
      "|        15|LEGO Storage & Ac...|3125.96|    2|\n",
      "|        16|        LEGO Classic| 9933.3|   10|\n",
      "|        17|   LEGO Galaxy Squad|5593.16|    4|\n",
      "|        18|     LEGO Mindstorms|6022.88|   10|\n",
      "|        19|    LEGO Minifigures|5775.99|    1|\n",
      "|        20|          LEGO Elves|4589.79|    4|\n",
      "+----------+--------------------+-------+-----+\n"
     ]
    }
   ],
   "source": [
    "products_df = spark.createDataFrame(products_with_header)\n",
    "products_df.createOrReplaceTempView(\"product\")\n",
    "spark.sql(\"SELECT * FROM product\").show()"
   ],
   "metadata": {
    "collapsed": false,
    "ExecuteTime": {
     "end_time": "2023-08-09T15:04:40.628986Z",
     "start_time": "2023-08-09T15:04:39.930296Z"
    }
   }
  },
  {
   "cell_type": "code",
   "execution_count": 42,
   "outputs": [
    {
     "name": "stdout",
     "output_type": "stream",
     "text": [
      "+----------+--------------------+------------------+\n",
      "|product_id|        product_name| price_per_product|\n",
      "+----------+--------------------+------------------+\n",
      "|        26|Barbie Beach Ken ...|60695.880000000005|\n",
      "|        29|  Intel Core i3 3220| 52398.94999999999|\n",
      "|        65|Roller Derby Roll...| 58670.56999999999|\n",
      "|        19|    LEGO Minifigures| 46486.00000000001|\n",
      "|        54|Essentials Medal ...|20736.739999999998|\n",
      "|        22| LEGO Speed Champion| 76892.01999999999|\n",
      "|        77|Treatment Set TS3...|          40571.76|\n",
      "|         7|         LEGO Mixels|          74330.11|\n",
      "|        34|GAM X360 Assassin...| 62592.42999999999|\n",
      "|        50|  LG LED TV 32LN575S|          61318.78|\n",
      "|        94|ATOPALM MUSCLE AN...|          31049.07|\n",
      "|        57|Notebook Lenovo U...|          85557.16|\n",
      "|        32| Intel Core i7 3770K|          34104.55|\n",
      "|        84|      Cyanocobalamin| 75192.53000000001|\n",
      "|        31|  Intel Core i5 3570|          75445.77|\n",
      "|        39|Medal Of Honor Al...|          18773.99|\n",
      "|        98|          Gabapentin|          51227.19|\n",
      "|        25|Barbie Shopping M...|          60353.25|\n",
      "|        95|              Cosopt|          43765.64|\n",
      "|        71|Childrens Non-Drowsy|          16470.08|\n",
      "+----------+--------------------+------------------+\n"
     ]
    }
   ],
   "source": [
    "spark.sql(\n",
    "    \" select \"\n",
    "    \"   t2.product_id,\"\n",
    "    \"   t2.product_name,\"\n",
    "    \"   sum(t1.price) as price_per_product\"\n",
    "    \" from transaction as t1\"\n",
    "    \" join product as t2 on t1.product_id = t2.product_id\"\n",
    "    \" group by t2.product_id, t2.product_name\"\n",
    ").show()"
   ],
   "metadata": {
    "collapsed": false,
    "ExecuteTime": {
     "end_time": "2023-08-09T15:15:27.483599Z",
     "start_time": "2023-08-09T15:15:25.764704Z"
    }
   }
  },
  {
   "cell_type": "code",
   "execution_count": 28,
   "outputs": [
    {
     "data": {
      "text/plain": "['2015-03-30', '6:55 AM', '51', '68', '1', '9506.21']"
     },
     "execution_count": 28,
     "metadata": {},
     "output_type": "execute_result"
    }
   ],
   "source": [
    "### with out DataFrame\n",
    "\n",
    "tranByProd = tranData.map(lambda tran : (int(tran[3]), tran))\n",
    "tranByProd.collect()[0][1]"
   ],
   "metadata": {
    "collapsed": false,
    "ExecuteTime": {
     "end_time": "2023-08-09T15:09:59.049696Z",
     "start_time": "2023-08-09T15:09:58.903568Z"
    }
   }
  },
  {
   "cell_type": "code",
   "execution_count": 32,
   "outputs": [],
   "source": [
    "totalsByProd = tranByProd.mapValues(lambda t : float(t[5])).reduceByKey(\n",
    "    lambda tot1, tot2 : (tot1 + tot2)\n",
    ")"
   ],
   "metadata": {
    "collapsed": false,
    "ExecuteTime": {
     "end_time": "2023-08-09T15:11:31.277940Z",
     "start_time": "2023-08-09T15:11:31.256398Z"
    }
   }
  },
  {
   "cell_type": "code",
   "execution_count": 41,
   "outputs": [
    {
     "data": {
      "text/plain": "[(19, 46486.00000000001)]"
     },
     "execution_count": 41,
     "metadata": {},
     "output_type": "execute_result"
    }
   ],
   "source": [
    "totalsByProd.filter(lambda column : column[0] == 19).collect()"
   ],
   "metadata": {
    "collapsed": false,
    "ExecuteTime": {
     "end_time": "2023-08-09T15:15:06.816156Z",
     "start_time": "2023-08-09T15:15:06.696808Z"
    }
   }
  },
  {
   "cell_type": "code",
   "execution_count": 8,
   "outputs": [],
   "source": [
    "spark.stop()"
   ],
   "metadata": {
    "collapsed": false,
    "ExecuteTime": {
     "end_time": "2023-08-17T22:07:46.653210Z",
     "start_time": "2023-08-17T22:07:46.443095Z"
    }
   }
  },
  {
   "cell_type": "code",
   "execution_count": null,
   "outputs": [],
   "source": [],
   "metadata": {
    "collapsed": false
   }
  }
 ],
 "metadata": {
  "kernelspec": {
   "display_name": "Python 3",
   "language": "python",
   "name": "python3"
  },
  "language_info": {
   "codemirror_mode": {
    "name": "ipython",
    "version": 2
   },
   "file_extension": ".py",
   "mimetype": "text/x-python",
   "name": "python",
   "nbconvert_exporter": "python",
   "pygments_lexer": "ipython2",
   "version": "2.7.6"
  }
 },
 "nbformat": 4,
 "nbformat_minor": 0
}
