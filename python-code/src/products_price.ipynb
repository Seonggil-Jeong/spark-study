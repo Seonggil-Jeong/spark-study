{
 "cells": [
  {
   "cell_type": "code",
   "execution_count": 1,
   "metadata": {
    "collapsed": true,
    "ExecuteTime": {
     "end_time": "2023-08-15T04:07:38.783868Z",
     "start_time": "2023-08-15T04:07:38.615335Z"
    }
   },
   "outputs": [],
   "source": [
    "import findspark\n",
    "\n",
    "findspark.init()\n",
    "\n",
    "import pyspark\n",
    "\n",
    "from pyspark.sql import SparkSession\n",
    "from pyspark.sql.functions import col, transform"
   ]
  },
  {
   "cell_type": "code",
   "execution_count": 11,
   "outputs": [
    {
     "name": "stdout",
     "output_type": "stream",
     "text": [
      "23/08/15 13:09:32 WARN SparkSession: Using an existing Spark session; only runtime SQL configurations will take effect.\n"
     ]
    }
   ],
   "source": [
    "spark = SparkSession.builder.appName(\"ProductsPrice\") \\\n",
    "    .master(\"yarn\") \\\n",
    "    .config(\"spark.driver.host\", \"127.0.0.1\") \\\n",
    "    .config(\"spark.driver.bindAddress\", \"127.0.0.1\").getOrCreate()"
   ],
   "metadata": {
    "collapsed": false,
    "ExecuteTime": {
     "end_time": "2023-08-15T04:09:32.896696Z",
     "start_time": "2023-08-15T04:09:32.867581Z"
    }
   }
  },
  {
   "cell_type": "code",
   "execution_count": 13,
   "outputs": [
    {
     "ename": "AnalysisException",
     "evalue": "Path does not exist: file:/data/products/ch04_data_transactions.txt",
     "output_type": "error",
     "traceback": [
      "\u001B[0;31m---------------------------------------------------------------------------\u001B[0m",
      "\u001B[0;31mAnalysisException\u001B[0m                         Traceback (most recent call last)",
      "Input \u001B[0;32mIn [13]\u001B[0m, in \u001B[0;36m<cell line: 1>\u001B[0;34m()\u001B[0m\n\u001B[0;32m----> 1\u001B[0m tranFile \u001B[38;5;241m=\u001B[39m \u001B[43mspark\u001B[49m\u001B[38;5;241;43m.\u001B[39;49m\u001B[43mread\u001B[49m\u001B[38;5;241;43m.\u001B[39;49m\u001B[43mtext\u001B[49m\u001B[43m(\u001B[49m\u001B[38;5;124;43m\"\u001B[39;49m\u001B[38;5;124;43m/data/products/ch04_data_transactions.txt\u001B[39;49m\u001B[38;5;124;43m\"\u001B[39;49m\u001B[43m)\u001B[49m\n\u001B[1;32m      2\u001B[0m tranData \u001B[38;5;241m=\u001B[39m tranFile\u001B[38;5;241m.\u001B[39mrdd\u001B[38;5;241m.\u001B[39mmap(\u001B[38;5;28;01mlambda\u001B[39;00m line: line[\u001B[38;5;241m0\u001B[39m]\u001B[38;5;241m.\u001B[39msplit(\u001B[38;5;124m\"\u001B[39m\u001B[38;5;124m#\u001B[39m\u001B[38;5;124m\"\u001B[39m))\n",
      "File \u001B[0;32m~/Development/bigdata/spark-3.3.2/python/pyspark/sql/readwriter.py:421\u001B[0m, in \u001B[0;36mDataFrameReader.text\u001B[0;34m(self, paths, wholetext, lineSep, pathGlobFilter, recursiveFileLookup, modifiedBefore, modifiedAfter)\u001B[0m\n\u001B[1;32m    419\u001B[0m     paths \u001B[38;5;241m=\u001B[39m [paths]\n\u001B[1;32m    420\u001B[0m \u001B[38;5;28;01massert\u001B[39;00m \u001B[38;5;28mself\u001B[39m\u001B[38;5;241m.\u001B[39m_spark\u001B[38;5;241m.\u001B[39m_sc\u001B[38;5;241m.\u001B[39m_jvm \u001B[38;5;129;01mis\u001B[39;00m \u001B[38;5;129;01mnot\u001B[39;00m \u001B[38;5;28;01mNone\u001B[39;00m\n\u001B[0;32m--> 421\u001B[0m \u001B[38;5;28;01mreturn\u001B[39;00m \u001B[38;5;28mself\u001B[39m\u001B[38;5;241m.\u001B[39m_df(\u001B[38;5;28;43mself\u001B[39;49m\u001B[38;5;241;43m.\u001B[39;49m\u001B[43m_jreader\u001B[49m\u001B[38;5;241;43m.\u001B[39;49m\u001B[43mtext\u001B[49m\u001B[43m(\u001B[49m\u001B[38;5;28;43mself\u001B[39;49m\u001B[38;5;241;43m.\u001B[39;49m\u001B[43m_spark\u001B[49m\u001B[38;5;241;43m.\u001B[39;49m\u001B[43m_sc\u001B[49m\u001B[38;5;241;43m.\u001B[39;49m\u001B[43m_jvm\u001B[49m\u001B[38;5;241;43m.\u001B[39;49m\u001B[43mPythonUtils\u001B[49m\u001B[38;5;241;43m.\u001B[39;49m\u001B[43mtoSeq\u001B[49m\u001B[43m(\u001B[49m\u001B[43mpaths\u001B[49m\u001B[43m)\u001B[49m\u001B[43m)\u001B[49m)\n",
      "File \u001B[0;32m~/Development/bigdata/spark-3.3.2/python/lib/py4j-0.10.9.5-src.zip/py4j/java_gateway.py:1321\u001B[0m, in \u001B[0;36mJavaMember.__call__\u001B[0;34m(self, *args)\u001B[0m\n\u001B[1;32m   1315\u001B[0m command \u001B[38;5;241m=\u001B[39m proto\u001B[38;5;241m.\u001B[39mCALL_COMMAND_NAME \u001B[38;5;241m+\u001B[39m\\\n\u001B[1;32m   1316\u001B[0m     \u001B[38;5;28mself\u001B[39m\u001B[38;5;241m.\u001B[39mcommand_header \u001B[38;5;241m+\u001B[39m\\\n\u001B[1;32m   1317\u001B[0m     args_command \u001B[38;5;241m+\u001B[39m\\\n\u001B[1;32m   1318\u001B[0m     proto\u001B[38;5;241m.\u001B[39mEND_COMMAND_PART\n\u001B[1;32m   1320\u001B[0m answer \u001B[38;5;241m=\u001B[39m \u001B[38;5;28mself\u001B[39m\u001B[38;5;241m.\u001B[39mgateway_client\u001B[38;5;241m.\u001B[39msend_command(command)\n\u001B[0;32m-> 1321\u001B[0m return_value \u001B[38;5;241m=\u001B[39m \u001B[43mget_return_value\u001B[49m\u001B[43m(\u001B[49m\n\u001B[1;32m   1322\u001B[0m \u001B[43m    \u001B[49m\u001B[43manswer\u001B[49m\u001B[43m,\u001B[49m\u001B[43m \u001B[49m\u001B[38;5;28;43mself\u001B[39;49m\u001B[38;5;241;43m.\u001B[39;49m\u001B[43mgateway_client\u001B[49m\u001B[43m,\u001B[49m\u001B[43m \u001B[49m\u001B[38;5;28;43mself\u001B[39;49m\u001B[38;5;241;43m.\u001B[39;49m\u001B[43mtarget_id\u001B[49m\u001B[43m,\u001B[49m\u001B[43m \u001B[49m\u001B[38;5;28;43mself\u001B[39;49m\u001B[38;5;241;43m.\u001B[39;49m\u001B[43mname\u001B[49m\u001B[43m)\u001B[49m\n\u001B[1;32m   1324\u001B[0m \u001B[38;5;28;01mfor\u001B[39;00m temp_arg \u001B[38;5;129;01min\u001B[39;00m temp_args:\n\u001B[1;32m   1325\u001B[0m     temp_arg\u001B[38;5;241m.\u001B[39m_detach()\n",
      "File \u001B[0;32m~/Development/bigdata/spark-3.3.2/python/pyspark/sql/utils.py:196\u001B[0m, in \u001B[0;36mcapture_sql_exception.<locals>.deco\u001B[0;34m(*a, **kw)\u001B[0m\n\u001B[1;32m    192\u001B[0m converted \u001B[38;5;241m=\u001B[39m convert_exception(e\u001B[38;5;241m.\u001B[39mjava_exception)\n\u001B[1;32m    193\u001B[0m \u001B[38;5;28;01mif\u001B[39;00m \u001B[38;5;129;01mnot\u001B[39;00m \u001B[38;5;28misinstance\u001B[39m(converted, UnknownException):\n\u001B[1;32m    194\u001B[0m     \u001B[38;5;66;03m# Hide where the exception came from that shows a non-Pythonic\u001B[39;00m\n\u001B[1;32m    195\u001B[0m     \u001B[38;5;66;03m# JVM exception message.\u001B[39;00m\n\u001B[0;32m--> 196\u001B[0m     \u001B[38;5;28;01mraise\u001B[39;00m converted \u001B[38;5;28;01mfrom\u001B[39;00m \u001B[38;5;28mNone\u001B[39m\n\u001B[1;32m    197\u001B[0m \u001B[38;5;28;01melse\u001B[39;00m:\n\u001B[1;32m    198\u001B[0m     \u001B[38;5;28;01mraise\u001B[39;00m\n",
      "\u001B[0;31mAnalysisException\u001B[0m: Path does not exist: file:/data/products/ch04_data_transactions.txt"
     ]
    }
   ],
   "source": [
    "tranFile = spark.read.text(\"hdfs://localhost:9000/data/products/ch04_data_transactions.txt\")\n",
    "tranData = tranFile.rdd.map(lambda line: line[0].split(\"#\"))"
   ],
   "metadata": {
    "collapsed": false,
    "ExecuteTime": {
     "end_time": "2023-08-15T04:09:44.976747Z",
     "start_time": "2023-08-15T04:09:44.897375Z"
    }
   }
  },
  {
   "cell_type": "code",
   "execution_count": 5,
   "outputs": [
    {
     "name": "stderr",
     "output_type": "stream",
     "text": [
      "                                                                                \r"
     ]
    },
    {
     "data": {
      "text/plain": "1000"
     },
     "execution_count": 5,
     "metadata": {},
     "output_type": "execute_result"
    }
   ],
   "source": [
    "tranData.count()"
   ],
   "metadata": {
    "collapsed": false,
    "ExecuteTime": {
     "end_time": "2023-08-15T04:08:08.555661Z",
     "start_time": "2023-08-15T04:08:06.604479Z"
    }
   }
  },
  {
   "cell_type": "code",
   "execution_count": 6,
   "outputs": [],
   "source": [
    "from collections import namedtuple\n",
    "### RDD -> DATE FRAME\n",
    "from datetime import date, time\n",
    "\n",
    "transaction = namedtuple(\"transaction\", [\"tran_date\", \"tran_time\", \"user_id\", \"product_id\", \"count\", \"price\"])\n",
    "\n",
    "\n",
    "def parse_line_transaction(line):\n",
    "    return transaction(\n",
    "        line[0].replace(\"\\\"\", \"\"),\n",
    "        line[1].replace(\"\\\"\", \"\"),\n",
    "        line[2].replace(\"\\\"\", \"\"),\n",
    "        line[3].replace(\"\\\"\", \"\"),\n",
    "        line[4].replace(\"\\\"\", \"\"),\n",
    "        line[5].replace(\"\\\"\", \"\")\n",
    "    )"
   ],
   "metadata": {
    "collapsed": false,
    "ExecuteTime": {
     "end_time": "2023-08-15T04:08:09.946387Z",
     "start_time": "2023-08-15T04:08:09.940520Z"
    }
   }
  },
  {
   "cell_type": "code",
   "execution_count": 7,
   "outputs": [
    {
     "data": {
      "text/plain": "[transaction(tran_date='2015-03-30', tran_time='6:55 AM', user_id='51', product_id='68', count='1', price='9506.21'),\n transaction(tran_date='2015-03-30', tran_time='7:39 PM', user_id='99', product_id='86', count='5', price='4107.59'),\n transaction(tran_date='2015-03-30', tran_time='11:57 AM', user_id='79', product_id='58', count='7', price='2987.22'),\n transaction(tran_date='2015-03-30', tran_time='12:46 AM', user_id='51', product_id='50', count='6', price='7501.89'),\n transaction(tran_date='2015-03-30', tran_time='11:39 AM', user_id='86', product_id='24', count='5', price='8370.2'),\n transaction(tran_date='2015-03-30', tran_time='10:35 AM', user_id='63', product_id='19', count='5', price='1023.57'),\n transaction(tran_date='2015-03-30', tran_time='2:30 AM', user_id='23', product_id='77', count='7', price='5892.41'),\n transaction(tran_date='2015-03-30', tran_time='7:41 PM', user_id='49', product_id='58', count='4', price='9298.18'),\n transaction(tran_date='2015-03-30', tran_time='9:18 AM', user_id='97', product_id='86', count='8', price='9462.89'),\n transaction(tran_date='2015-03-30', tran_time='10:06 PM', user_id='94', product_id='26', count='4', price='4199.15')]"
     },
     "execution_count": 7,
     "metadata": {},
     "output_type": "execute_result"
    }
   ],
   "source": [
    "tranData_with_header = tranData.map(lambda line: parse_line_transaction(line))\n",
    "tranData_with_header.collect()[:10]"
   ],
   "metadata": {
    "collapsed": false,
    "ExecuteTime": {
     "end_time": "2023-08-15T04:08:11.855157Z",
     "start_time": "2023-08-15T04:08:11.617179Z"
    }
   }
  },
  {
   "cell_type": "code",
   "execution_count": 8,
   "outputs": [
    {
     "name": "stdout",
     "output_type": "stream",
     "text": [
      "+----------+---------+-------+----------+-----+-------+\n",
      "| tran_date|tran_time|user_id|product_id|count|  price|\n",
      "+----------+---------+-------+----------+-----+-------+\n",
      "|2015-03-30|  6:55 AM|     51|        68|    1|9506.21|\n",
      "|2015-03-30|  7:39 PM|     99|        86|    5|4107.59|\n",
      "|2015-03-30| 11:57 AM|     79|        58|    7|2987.22|\n",
      "|2015-03-30| 12:46 AM|     51|        50|    6|7501.89|\n",
      "|2015-03-30| 11:39 AM|     86|        24|    5| 8370.2|\n",
      "+----------+---------+-------+----------+-----+-------+\n"
     ]
    }
   ],
   "source": [
    "transaction_df = spark.createDataFrame(tranData_with_header)\n",
    "transaction_df.createOrReplaceTempView(\"transaction\")\n",
    "\n",
    "spark.sql(\"SELECT * FROM transaction limit 5\").show()\n"
   ],
   "metadata": {
    "collapsed": false,
    "ExecuteTime": {
     "end_time": "2023-08-15T04:08:15.655368Z",
     "start_time": "2023-08-15T04:08:13.546579Z"
    }
   }
  },
  {
   "cell_type": "code",
   "execution_count": 10,
   "outputs": [],
   "source": [
    "products = spark.read.text(\"hdfs://localhost:9000/data/products/ch04_data_products.txt\").rdd \\\n",
    "    .map(lambda line : line[0].split(\"#\")).map(lambda line : change_str_to_int(line))\n",
    "\n",
    "\n",
    "def change_str_to_int(line):\n",
    "    line[0] = int(line[0])\n",
    "\n",
    "    return line\n"
   ],
   "metadata": {
    "collapsed": false,
    "ExecuteTime": {
     "end_time": "2023-08-15T04:08:30.532145Z",
     "start_time": "2023-08-15T04:08:30.367324Z"
    }
   }
  },
  {
   "cell_type": "code",
   "execution_count": 17,
   "outputs": [
    {
     "data": {
      "text/plain": "Product(product_id=1, product_name='ROBITUSSIN PEAK COLD NIGHTTIME COLD PLUS FLU', price=9721.89, count=10)"
     },
     "execution_count": 17,
     "metadata": {},
     "output_type": "execute_result"
    }
   ],
   "source": [
    "Product = namedtuple(\"Product\", [\"product_id\", \"product_name\", \"price\", \"count\"])\n",
    "\n",
    "def parse_line_product(line):\n",
    "    return Product(\n",
    "        int(line[0]),\n",
    "        str(line[1]),\n",
    "        float(line[2]),\n",
    "        int(line[3]),\n",
    "    )\n",
    "\n",
    "products_with_header = products.map(lambda line : parse_line_product(line))\n",
    "products_with_header.collect()[0]"
   ],
   "metadata": {
    "collapsed": false,
    "ExecuteTime": {
     "end_time": "2023-08-09T15:04:19.098615Z",
     "start_time": "2023-08-09T15:04:18.874529Z"
    }
   }
  },
  {
   "cell_type": "code",
   "execution_count": 19,
   "outputs": [
    {
     "name": "stdout",
     "output_type": "stream",
     "text": [
      "+----------+--------------------+-------+-----+\n",
      "|product_id|        product_name|  price|count|\n",
      "+----------+--------------------+-------+-----+\n",
      "|         1|ROBITUSSIN PEAK C...|9721.89|   10|\n",
      "|         2|Mattel Little Mom...|6060.78|    6|\n",
      "|         3|Cute baby doll, b...|1808.79|    2|\n",
      "|         4|           Bear doll|  51.06|    6|\n",
      "|         5|LEGO Legends of C...| 849.36|    6|\n",
      "|         6|         LEGO Castle|4777.51|   10|\n",
      "|         7|         LEGO Mixels|8720.91|    1|\n",
      "|         8|      LEGO Star Wars|7592.44|    4|\n",
      "|         9|LEGO Lord of the ...| 851.67|    2|\n",
      "|        10|     LEGO The Hobbit|7314.55|    9|\n",
      "|        11|      LEGO Minecraft|5646.81|    3|\n",
      "|        12|   LEGO Hero Factory| 6911.2|    1|\n",
      "|        13|   LEGO Architecture| 604.58|    5|\n",
      "|        14|        LEGO Technic|7423.48|    3|\n",
      "|        15|LEGO Storage & Ac...|3125.96|    2|\n",
      "|        16|        LEGO Classic| 9933.3|   10|\n",
      "|        17|   LEGO Galaxy Squad|5593.16|    4|\n",
      "|        18|     LEGO Mindstorms|6022.88|   10|\n",
      "|        19|    LEGO Minifigures|5775.99|    1|\n",
      "|        20|          LEGO Elves|4589.79|    4|\n",
      "+----------+--------------------+-------+-----+\n"
     ]
    }
   ],
   "source": [
    "products_df = spark.createDataFrame(products_with_header)\n",
    "products_df.createOrReplaceTempView(\"product\")\n",
    "spark.sql(\"SELECT * FROM product\").show()"
   ],
   "metadata": {
    "collapsed": false,
    "ExecuteTime": {
     "end_time": "2023-08-09T15:04:40.628986Z",
     "start_time": "2023-08-09T15:04:39.930296Z"
    }
   }
  },
  {
   "cell_type": "code",
   "execution_count": 42,
   "outputs": [
    {
     "name": "stdout",
     "output_type": "stream",
     "text": [
      "+----------+--------------------+------------------+\n",
      "|product_id|        product_name| price_per_product|\n",
      "+----------+--------------------+------------------+\n",
      "|        26|Barbie Beach Ken ...|60695.880000000005|\n",
      "|        29|  Intel Core i3 3220| 52398.94999999999|\n",
      "|        65|Roller Derby Roll...| 58670.56999999999|\n",
      "|        19|    LEGO Minifigures| 46486.00000000001|\n",
      "|        54|Essentials Medal ...|20736.739999999998|\n",
      "|        22| LEGO Speed Champion| 76892.01999999999|\n",
      "|        77|Treatment Set TS3...|          40571.76|\n",
      "|         7|         LEGO Mixels|          74330.11|\n",
      "|        34|GAM X360 Assassin...| 62592.42999999999|\n",
      "|        50|  LG LED TV 32LN575S|          61318.78|\n",
      "|        94|ATOPALM MUSCLE AN...|          31049.07|\n",
      "|        57|Notebook Lenovo U...|          85557.16|\n",
      "|        32| Intel Core i7 3770K|          34104.55|\n",
      "|        84|      Cyanocobalamin| 75192.53000000001|\n",
      "|        31|  Intel Core i5 3570|          75445.77|\n",
      "|        39|Medal Of Honor Al...|          18773.99|\n",
      "|        98|          Gabapentin|          51227.19|\n",
      "|        25|Barbie Shopping M...|          60353.25|\n",
      "|        95|              Cosopt|          43765.64|\n",
      "|        71|Childrens Non-Drowsy|          16470.08|\n",
      "+----------+--------------------+------------------+\n"
     ]
    }
   ],
   "source": [
    "spark.sql(\n",
    "    \" select \"\n",
    "    \"   t2.product_id,\"\n",
    "    \"   t2.product_name,\"\n",
    "    \"   sum(t1.price) as price_per_product\"\n",
    "    \" from transaction as t1\"\n",
    "    \" join product as t2 on t1.product_id = t2.product_id\"\n",
    "    \" group by t2.product_id, t2.product_name\"\n",
    ").show()"
   ],
   "metadata": {
    "collapsed": false,
    "ExecuteTime": {
     "end_time": "2023-08-09T15:15:27.483599Z",
     "start_time": "2023-08-09T15:15:25.764704Z"
    }
   }
  },
  {
   "cell_type": "code",
   "execution_count": 28,
   "outputs": [
    {
     "data": {
      "text/plain": "['2015-03-30', '6:55 AM', '51', '68', '1', '9506.21']"
     },
     "execution_count": 28,
     "metadata": {},
     "output_type": "execute_result"
    }
   ],
   "source": [
    "### with out DataFrame\n",
    "\n",
    "tranByProd = tranData.map(lambda tran : (int(tran[3]), tran))\n",
    "tranByProd.collect()[0][1]"
   ],
   "metadata": {
    "collapsed": false,
    "ExecuteTime": {
     "end_time": "2023-08-09T15:09:59.049696Z",
     "start_time": "2023-08-09T15:09:58.903568Z"
    }
   }
  },
  {
   "cell_type": "code",
   "execution_count": 32,
   "outputs": [],
   "source": [
    "totalsByProd = tranByProd.mapValues(lambda t : float(t[5])).reduceByKey(\n",
    "    lambda tot1, tot2 : (tot1 + tot2)\n",
    ")"
   ],
   "metadata": {
    "collapsed": false,
    "ExecuteTime": {
     "end_time": "2023-08-09T15:11:31.277940Z",
     "start_time": "2023-08-09T15:11:31.256398Z"
    }
   }
  },
  {
   "cell_type": "code",
   "execution_count": 41,
   "outputs": [
    {
     "data": {
      "text/plain": "[(19, 46486.00000000001)]"
     },
     "execution_count": 41,
     "metadata": {},
     "output_type": "execute_result"
    }
   ],
   "source": [
    "totalsByProd.filter(lambda column : column[0] == 19).collect()"
   ],
   "metadata": {
    "collapsed": false,
    "ExecuteTime": {
     "end_time": "2023-08-09T15:15:06.816156Z",
     "start_time": "2023-08-09T15:15:06.696808Z"
    }
   }
  },
  {
   "cell_type": "code",
   "execution_count": 14,
   "outputs": [],
   "source": [
    "spark.stop()"
   ],
   "metadata": {
    "collapsed": false,
    "ExecuteTime": {
     "end_time": "2023-08-15T04:10:44.145109Z",
     "start_time": "2023-08-15T04:10:43.275442Z"
    }
   }
  },
  {
   "cell_type": "code",
   "execution_count": null,
   "outputs": [],
   "source": [],
   "metadata": {
    "collapsed": false
   }
  }
 ],
 "metadata": {
  "kernelspec": {
   "display_name": "Python 3",
   "language": "python",
   "name": "python3"
  },
  "language_info": {
   "codemirror_mode": {
    "name": "ipython",
    "version": 2
   },
   "file_extension": ".py",
   "mimetype": "text/x-python",
   "name": "python",
   "nbconvert_exporter": "python",
   "pygments_lexer": "ipython2",
   "version": "2.7.6"
  }
 },
 "nbformat": 4,
 "nbformat_minor": 0
}
