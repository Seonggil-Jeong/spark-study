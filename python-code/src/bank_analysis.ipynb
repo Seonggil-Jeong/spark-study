{
 "cells": [
  {
   "cell_type": "code",
   "execution_count": 1,
   "metadata": {
    "collapsed": true,
    "ExecuteTime": {
     "end_time": "2023-08-11T20:02:32.742579Z",
     "start_time": "2023-08-11T20:02:32.244429Z"
    }
   },
   "outputs": [],
   "source": [
    "import findspark\n",
    "\n",
    "findspark.init()\n",
    "\n",
    "import pyspark\n",
    "\n",
    "from pyspark.sql import SparkSession\n",
    "from pyspark.sql.functions import col, transform"
   ]
  },
  {
   "cell_type": "code",
   "execution_count": 2,
   "outputs": [
    {
     "name": "stderr",
     "output_type": "stream",
     "text": [
      "Setting default log level to \"WARN\".\n",
      "To adjust logging level use sc.setLogLevel(newLevel). For SparkR, use setLogLevel(newLevel).\n"
     ]
    },
    {
     "name": "stdout",
     "output_type": "stream",
     "text": [
      "23/08/12 05:02:43 WARN NativeCodeLoader: Unable to load native-hadoop library for your platform... using builtin-java classes where applicable\n",
      "23/08/12 05:06:46 WARN Client: Neither spark.yarn.jars nor spark.yarn.archive is set, falling back to uploading libraries under SPARK_HOME.\n"
     ]
    }
   ],
   "source": [
    "spark = SparkSession.builder.appName(\"BankAnalysis\") \\\n",
    "    .config(\"spark.driver.host\", \"127.0.0.1\") \\\n",
    "    .config(\"spark.driver.bindAddress\", \"127.0.0.1\").getOrCreate()"
   ],
   "metadata": {
    "collapsed": false,
    "ExecuteTime": {
     "end_time": "2023-08-11T20:07:03.717293Z",
     "start_time": "2023-08-11T20:02:39.505578Z"
    }
   }
  },
  {
   "cell_type": "code",
   "execution_count": 5,
   "outputs": [],
   "source": [
    "bankText = spark.read.text(\"/user/seonggil/bank-full.csv\").rdd.map(lambda r: r[0])"
   ],
   "metadata": {
    "collapsed": false,
    "ExecuteTime": {
     "end_time": "2023-08-09T12:32:41.269967Z",
     "start_time": "2023-08-09T12:32:37.616261Z"
    }
   }
  },
  {
   "cell_type": "code",
   "execution_count": 9,
   "outputs": [],
   "source": [
    "from collections import namedtuple\n",
    "\n",
    "Bank = namedtuple(\"Bank\", [\"age\", \"job\", \"marital\", \"education\", \"balance\"])\n",
    "\n",
    "\n",
    "def parse_line(line):\n",
    "    parts = line.split(\";\")\n",
    "    return Bank(int(parts[0]),\n",
    "                parts[1].replace(\"\\\"\", \"\"),\n",
    "                parts[2].replace(\"\\\"\", \"\"),\n",
    "                parts[3].replace(\"\\\"\", \"\"),\n",
    "                int(parts[5].replace(\"\\\"\", \"\")))"
   ],
   "metadata": {
    "collapsed": false,
    "ExecuteTime": {
     "end_time": "2023-08-09T12:33:09.777084Z",
     "start_time": "2023-08-09T12:33:09.773563Z"
    }
   }
  },
  {
   "cell_type": "code",
   "execution_count": 10,
   "outputs": [],
   "source": [
    "bank = bankText.filter(lambda s: \"age\" not in s).map(parse_line)"
   ],
   "metadata": {
    "collapsed": false,
    "ExecuteTime": {
     "end_time": "2023-08-09T12:33:17.845651Z",
     "start_time": "2023-08-09T12:33:17.842701Z"
    }
   }
  },
  {
   "cell_type": "code",
   "execution_count": 11,
   "outputs": [
    {
     "name": "stderr",
     "output_type": "stream",
     "text": [
      "                                                                                \r"
     ]
    }
   ],
   "source": [
    "# RDD를 DataFrame으로 변환하고 임시 테이블 생성\n",
    "\n",
    "bank_df = spark.createDataFrame(bank)\n",
    "bank_df.createOrReplaceTempView(\"bank\")"
   ],
   "metadata": {
    "collapsed": false,
    "ExecuteTime": {
     "end_time": "2023-08-09T12:33:31.727934Z",
     "start_time": "2023-08-09T12:33:27.352137Z"
    }
   }
  },
  {
   "cell_type": "code",
   "execution_count": 12,
   "outputs": [
    {
     "name": "stderr",
     "output_type": "stream",
     "text": [
      "[Stage 3:>                                                          (0 + 1) / 1]\r"
     ]
    },
    {
     "name": "stdout",
     "output_type": "stream",
     "text": [
      "+---+--------+\n",
      "|age|count(1)|\n",
      "+---+--------+\n",
      "| 18|      12|\n",
      "| 19|      35|\n",
      "| 20|      50|\n",
      "| 21|      77|\n",
      "| 22|     123|\n",
      "| 23|     191|\n",
      "| 24|     282|\n",
      "| 25|     457|\n",
      "| 26|     696|\n",
      "| 27|     776|\n",
      "| 28|     866|\n",
      "| 29|     950|\n",
      "| 30|    1312|\n",
      "| 31|    1518|\n",
      "| 32|    1587|\n",
      "| 33|    1465|\n",
      "| 34|    1446|\n",
      "| 35|    1429|\n",
      "| 36|    1363|\n",
      "| 37|    1301|\n",
      "+---+--------+\n",
      "only showing top 20 rows\n",
      "\n"
     ]
    },
    {
     "name": "stderr",
     "output_type": "stream",
     "text": [
      "                                                                                \r"
     ]
    }
   ],
   "source": [
    "spark.sql(\"SELECT age, COUNT(1) FROM bank GROUP BY age ORDER BY age\").show()"
   ],
   "metadata": {
    "collapsed": false,
    "ExecuteTime": {
     "end_time": "2023-08-09T12:33:49.814979Z",
     "start_time": "2023-08-09T12:33:42.541818Z"
    }
   }
  },
  {
   "cell_type": "code",
   "execution_count": 13,
   "outputs": [
    {
     "name": "stderr",
     "output_type": "stream",
     "text": [
      "[Stage 4:=============================>                             (1 + 1) / 2]\r"
     ]
    },
    {
     "name": "stdout",
     "output_type": "stream",
     "text": [
      "+--------+--------+\n",
      "| marital|count(1)|\n",
      "+--------+--------+\n",
      "|divorced|    4096|\n",
      "| married|   21814|\n",
      "|  single|    9843|\n",
      "+--------+--------+\n",
      "\n"
     ]
    },
    {
     "name": "stderr",
     "output_type": "stream",
     "text": [
      "                                                                                \r"
     ]
    }
   ],
   "source": [
    "spark.sql(\"SELECT marital, COUNT(1) FROM bank GROUP BY marital\").show()"
   ],
   "metadata": {
    "collapsed": false,
    "ExecuteTime": {
     "end_time": "2023-08-09T12:34:02.815623Z",
     "start_time": "2023-08-09T12:34:01.106101Z"
    }
   }
  },
  {
   "cell_type": "code",
   "execution_count": 14,
   "outputs": [
    {
     "name": "stderr",
     "output_type": "stream",
     "text": [
      "[Stage 9:>                                                          (0 + 1) / 1]\r"
     ]
    },
    {
     "name": "stdout",
     "output_type": "stream",
     "text": [
      "+-------------+--------+\n",
      "|          job|count(1)|\n",
      "+-------------+--------+\n",
      "|  blue-collar|    9732|\n",
      "|   technician|    7597|\n",
      "|       admin.|    5171|\n",
      "|     services|    4154|\n",
      "|      retired|    2264|\n",
      "|self-employed|    1579|\n",
      "| entrepreneur|    1487|\n",
      "|   unemployed|    1303|\n",
      "|    housemaid|    1240|\n",
      "|      student|     938|\n",
      "|      unknown|     288|\n",
      "+-------------+--------+\n",
      "\n"
     ]
    },
    {
     "name": "stderr",
     "output_type": "stream",
     "text": [
      "                                                                                \r"
     ]
    }
   ],
   "source": [
    "spark.sql(\"SELECT job, COUNT(1) FROM bank GROUP BY job ORDER BY COUNT(1) DESC\").show()"
   ],
   "metadata": {
    "collapsed": false,
    "ExecuteTime": {
     "end_time": "2023-08-09T12:34:15.265615Z",
     "start_time": "2023-08-09T12:34:13.324619Z"
    }
   }
  },
  {
   "cell_type": "code",
   "execution_count": 3,
   "outputs": [],
   "source": [
    "spark.stop()"
   ],
   "metadata": {
    "collapsed": false,
    "ExecuteTime": {
     "end_time": "2023-08-11T20:07:52.090545Z",
     "start_time": "2023-08-11T20:07:51.561094Z"
    }
   }
  },
  {
   "cell_type": "code",
   "execution_count": null,
   "outputs": [],
   "source": [],
   "metadata": {
    "collapsed": false
   }
  }
 ],
 "metadata": {
  "kernelspec": {
   "display_name": "Python 3",
   "language": "python",
   "name": "python3"
  },
  "language_info": {
   "codemirror_mode": {
    "name": "ipython",
    "version": 2
   },
   "file_extension": ".py",
   "mimetype": "text/x-python",
   "name": "python",
   "nbconvert_exporter": "python",
   "pygments_lexer": "ipython2",
   "version": "2.7.6"
  }
 },
 "nbformat": 4,
 "nbformat_minor": 0
}
